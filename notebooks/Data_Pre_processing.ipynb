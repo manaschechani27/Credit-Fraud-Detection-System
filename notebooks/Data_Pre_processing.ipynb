{
  "nbformat": 4,
  "nbformat_minor": 0,
  "metadata": {
    "colab": {
      "provenance": []
    },
    "kernelspec": {
      "name": "python3",
      "display_name": "Python 3"
    },
    "language_info": {
      "name": "python"
    }
  },
  "cells": [
    {
      "cell_type": "code",
      "execution_count": 31,
      "metadata": {
        "id": "yZ0bfJTU2Xbg"
      },
      "outputs": [],
      "source": [
        "import numpy as np\n",
        "import pandas as pd\n",
        "from sklearn.model_selection import train_test_split\n",
        "from sklearn.metrics import accuracy_score, classification_report\n",
        "from sklearn.linear_model import LogisticRegression\n",
        "from sklearn.preprocessing import StandardScaler\n",
        "from imblearn.over_sampling import SMOTE\n",
        "from imblearn.under_sampling import RandomUnderSampler"
      ]
    },
    {
      "cell_type": "code",
      "source": [
        "#Loading the dataset\n",
        "credit_card_data_raw = pd.read_csv('/content/creditcard.csv')"
      ],
      "metadata": {
        "id": "COo9Fix827eC"
      },
      "execution_count": 6,
      "outputs": []
    },
    {
      "cell_type": "code",
      "source": [
        "#checking the few rows of the raw datset\n",
        "credit_card_data_raw.head()"
      ],
      "metadata": {
        "colab": {
          "base_uri": "https://localhost:8080/",
          "height": 256
        },
        "id": "Rqzj_whE3d6r",
        "outputId": "6fdb403d-0c46-4962-979b-3af82954f7f9"
      },
      "execution_count": 7,
      "outputs": [
        {
          "output_type": "execute_result",
          "data": {
            "text/plain": [
              "   Time        V1        V2        V3        V4        V5        V6        V7  \\\n",
              "0     0 -1.359807 -0.072781  2.536347  1.378155 -0.338321  0.462388  0.239599   \n",
              "1     0  1.191857  0.266151  0.166480  0.448154  0.060018 -0.082361 -0.078803   \n",
              "2     1 -1.358354 -1.340163  1.773209  0.379780 -0.503198  1.800499  0.791461   \n",
              "3     1 -0.966272 -0.185226  1.792993 -0.863291 -0.010309  1.247203  0.237609   \n",
              "4     2 -1.158233  0.877737  1.548718  0.403034 -0.407193  0.095921  0.592941   \n",
              "\n",
              "         V8        V9  ...       V21       V22       V23       V24       V25  \\\n",
              "0  0.098698  0.363787  ... -0.018307  0.277838 -0.110474  0.066928  0.128539   \n",
              "1  0.085102 -0.255425  ... -0.225775 -0.638672  0.101288 -0.339846  0.167170   \n",
              "2  0.247676 -1.514654  ...  0.247998  0.771679  0.909412 -0.689281 -0.327642   \n",
              "3  0.377436 -1.387024  ... -0.108300  0.005274 -0.190321 -1.175575  0.647376   \n",
              "4 -0.270533  0.817739  ... -0.009431  0.798278 -0.137458  0.141267 -0.206010   \n",
              "\n",
              "        V26       V27       V28  Amount  Class  \n",
              "0 -0.189115  0.133558 -0.021053  149.62    0.0  \n",
              "1  0.125895 -0.008983  0.014724    2.69    0.0  \n",
              "2 -0.139097 -0.055353 -0.059752  378.66    0.0  \n",
              "3 -0.221929  0.062723  0.061458  123.50    0.0  \n",
              "4  0.502292  0.219422  0.215153   69.99    0.0  \n",
              "\n",
              "[5 rows x 31 columns]"
            ],
            "text/html": [
              "\n",
              "  <div id=\"df-44b73b85-6866-4550-a9e0-13d6eee4372a\" class=\"colab-df-container\">\n",
              "    <div>\n",
              "<style scoped>\n",
              "    .dataframe tbody tr th:only-of-type {\n",
              "        vertical-align: middle;\n",
              "    }\n",
              "\n",
              "    .dataframe tbody tr th {\n",
              "        vertical-align: top;\n",
              "    }\n",
              "\n",
              "    .dataframe thead th {\n",
              "        text-align: right;\n",
              "    }\n",
              "</style>\n",
              "<table border=\"1\" class=\"dataframe\">\n",
              "  <thead>\n",
              "    <tr style=\"text-align: right;\">\n",
              "      <th></th>\n",
              "      <th>Time</th>\n",
              "      <th>V1</th>\n",
              "      <th>V2</th>\n",
              "      <th>V3</th>\n",
              "      <th>V4</th>\n",
              "      <th>V5</th>\n",
              "      <th>V6</th>\n",
              "      <th>V7</th>\n",
              "      <th>V8</th>\n",
              "      <th>V9</th>\n",
              "      <th>...</th>\n",
              "      <th>V21</th>\n",
              "      <th>V22</th>\n",
              "      <th>V23</th>\n",
              "      <th>V24</th>\n",
              "      <th>V25</th>\n",
              "      <th>V26</th>\n",
              "      <th>V27</th>\n",
              "      <th>V28</th>\n",
              "      <th>Amount</th>\n",
              "      <th>Class</th>\n",
              "    </tr>\n",
              "  </thead>\n",
              "  <tbody>\n",
              "    <tr>\n",
              "      <th>0</th>\n",
              "      <td>0</td>\n",
              "      <td>-1.359807</td>\n",
              "      <td>-0.072781</td>\n",
              "      <td>2.536347</td>\n",
              "      <td>1.378155</td>\n",
              "      <td>-0.338321</td>\n",
              "      <td>0.462388</td>\n",
              "      <td>0.239599</td>\n",
              "      <td>0.098698</td>\n",
              "      <td>0.363787</td>\n",
              "      <td>...</td>\n",
              "      <td>-0.018307</td>\n",
              "      <td>0.277838</td>\n",
              "      <td>-0.110474</td>\n",
              "      <td>0.066928</td>\n",
              "      <td>0.128539</td>\n",
              "      <td>-0.189115</td>\n",
              "      <td>0.133558</td>\n",
              "      <td>-0.021053</td>\n",
              "      <td>149.62</td>\n",
              "      <td>0.0</td>\n",
              "    </tr>\n",
              "    <tr>\n",
              "      <th>1</th>\n",
              "      <td>0</td>\n",
              "      <td>1.191857</td>\n",
              "      <td>0.266151</td>\n",
              "      <td>0.166480</td>\n",
              "      <td>0.448154</td>\n",
              "      <td>0.060018</td>\n",
              "      <td>-0.082361</td>\n",
              "      <td>-0.078803</td>\n",
              "      <td>0.085102</td>\n",
              "      <td>-0.255425</td>\n",
              "      <td>...</td>\n",
              "      <td>-0.225775</td>\n",
              "      <td>-0.638672</td>\n",
              "      <td>0.101288</td>\n",
              "      <td>-0.339846</td>\n",
              "      <td>0.167170</td>\n",
              "      <td>0.125895</td>\n",
              "      <td>-0.008983</td>\n",
              "      <td>0.014724</td>\n",
              "      <td>2.69</td>\n",
              "      <td>0.0</td>\n",
              "    </tr>\n",
              "    <tr>\n",
              "      <th>2</th>\n",
              "      <td>1</td>\n",
              "      <td>-1.358354</td>\n",
              "      <td>-1.340163</td>\n",
              "      <td>1.773209</td>\n",
              "      <td>0.379780</td>\n",
              "      <td>-0.503198</td>\n",
              "      <td>1.800499</td>\n",
              "      <td>0.791461</td>\n",
              "      <td>0.247676</td>\n",
              "      <td>-1.514654</td>\n",
              "      <td>...</td>\n",
              "      <td>0.247998</td>\n",
              "      <td>0.771679</td>\n",
              "      <td>0.909412</td>\n",
              "      <td>-0.689281</td>\n",
              "      <td>-0.327642</td>\n",
              "      <td>-0.139097</td>\n",
              "      <td>-0.055353</td>\n",
              "      <td>-0.059752</td>\n",
              "      <td>378.66</td>\n",
              "      <td>0.0</td>\n",
              "    </tr>\n",
              "    <tr>\n",
              "      <th>3</th>\n",
              "      <td>1</td>\n",
              "      <td>-0.966272</td>\n",
              "      <td>-0.185226</td>\n",
              "      <td>1.792993</td>\n",
              "      <td>-0.863291</td>\n",
              "      <td>-0.010309</td>\n",
              "      <td>1.247203</td>\n",
              "      <td>0.237609</td>\n",
              "      <td>0.377436</td>\n",
              "      <td>-1.387024</td>\n",
              "      <td>...</td>\n",
              "      <td>-0.108300</td>\n",
              "      <td>0.005274</td>\n",
              "      <td>-0.190321</td>\n",
              "      <td>-1.175575</td>\n",
              "      <td>0.647376</td>\n",
              "      <td>-0.221929</td>\n",
              "      <td>0.062723</td>\n",
              "      <td>0.061458</td>\n",
              "      <td>123.50</td>\n",
              "      <td>0.0</td>\n",
              "    </tr>\n",
              "    <tr>\n",
              "      <th>4</th>\n",
              "      <td>2</td>\n",
              "      <td>-1.158233</td>\n",
              "      <td>0.877737</td>\n",
              "      <td>1.548718</td>\n",
              "      <td>0.403034</td>\n",
              "      <td>-0.407193</td>\n",
              "      <td>0.095921</td>\n",
              "      <td>0.592941</td>\n",
              "      <td>-0.270533</td>\n",
              "      <td>0.817739</td>\n",
              "      <td>...</td>\n",
              "      <td>-0.009431</td>\n",
              "      <td>0.798278</td>\n",
              "      <td>-0.137458</td>\n",
              "      <td>0.141267</td>\n",
              "      <td>-0.206010</td>\n",
              "      <td>0.502292</td>\n",
              "      <td>0.219422</td>\n",
              "      <td>0.215153</td>\n",
              "      <td>69.99</td>\n",
              "      <td>0.0</td>\n",
              "    </tr>\n",
              "  </tbody>\n",
              "</table>\n",
              "<p>5 rows × 31 columns</p>\n",
              "</div>\n",
              "    <div class=\"colab-df-buttons\">\n",
              "\n",
              "  <div class=\"colab-df-container\">\n",
              "    <button class=\"colab-df-convert\" onclick=\"convertToInteractive('df-44b73b85-6866-4550-a9e0-13d6eee4372a')\"\n",
              "            title=\"Convert this dataframe to an interactive table.\"\n",
              "            style=\"display:none;\">\n",
              "\n",
              "  <svg xmlns=\"http://www.w3.org/2000/svg\" height=\"24px\" viewBox=\"0 -960 960 960\">\n",
              "    <path d=\"M120-120v-720h720v720H120Zm60-500h600v-160H180v160Zm220 220h160v-160H400v160Zm0 220h160v-160H400v160ZM180-400h160v-160H180v160Zm440 0h160v-160H620v160ZM180-180h160v-160H180v160Zm440 0h160v-160H620v160Z\"/>\n",
              "  </svg>\n",
              "    </button>\n",
              "\n",
              "  <style>\n",
              "    .colab-df-container {\n",
              "      display:flex;\n",
              "      gap: 12px;\n",
              "    }\n",
              "\n",
              "    .colab-df-convert {\n",
              "      background-color: #E8F0FE;\n",
              "      border: none;\n",
              "      border-radius: 50%;\n",
              "      cursor: pointer;\n",
              "      display: none;\n",
              "      fill: #1967D2;\n",
              "      height: 32px;\n",
              "      padding: 0 0 0 0;\n",
              "      width: 32px;\n",
              "    }\n",
              "\n",
              "    .colab-df-convert:hover {\n",
              "      background-color: #E2EBFA;\n",
              "      box-shadow: 0px 1px 2px rgba(60, 64, 67, 0.3), 0px 1px 3px 1px rgba(60, 64, 67, 0.15);\n",
              "      fill: #174EA6;\n",
              "    }\n",
              "\n",
              "    .colab-df-buttons div {\n",
              "      margin-bottom: 4px;\n",
              "    }\n",
              "\n",
              "    [theme=dark] .colab-df-convert {\n",
              "      background-color: #3B4455;\n",
              "      fill: #D2E3FC;\n",
              "    }\n",
              "\n",
              "    [theme=dark] .colab-df-convert:hover {\n",
              "      background-color: #434B5C;\n",
              "      box-shadow: 0px 1px 3px 1px rgba(0, 0, 0, 0.15);\n",
              "      filter: drop-shadow(0px 1px 2px rgba(0, 0, 0, 0.3));\n",
              "      fill: #FFFFFF;\n",
              "    }\n",
              "  </style>\n",
              "\n",
              "    <script>\n",
              "      const buttonEl =\n",
              "        document.querySelector('#df-44b73b85-6866-4550-a9e0-13d6eee4372a button.colab-df-convert');\n",
              "      buttonEl.style.display =\n",
              "        google.colab.kernel.accessAllowed ? 'block' : 'none';\n",
              "\n",
              "      async function convertToInteractive(key) {\n",
              "        const element = document.querySelector('#df-44b73b85-6866-4550-a9e0-13d6eee4372a');\n",
              "        const dataTable =\n",
              "          await google.colab.kernel.invokeFunction('convertToInteractive',\n",
              "                                                    [key], {});\n",
              "        if (!dataTable) return;\n",
              "\n",
              "        const docLinkHtml = 'Like what you see? Visit the ' +\n",
              "          '<a target=\"_blank\" href=https://colab.research.google.com/notebooks/data_table.ipynb>data table notebook</a>'\n",
              "          + ' to learn more about interactive tables.';\n",
              "        element.innerHTML = '';\n",
              "        dataTable['output_type'] = 'display_data';\n",
              "        await google.colab.output.renderOutput(dataTable, element);\n",
              "        const docLink = document.createElement('div');\n",
              "        docLink.innerHTML = docLinkHtml;\n",
              "        element.appendChild(docLink);\n",
              "      }\n",
              "    </script>\n",
              "  </div>\n",
              "\n",
              "\n",
              "<div id=\"df-51f3b6a5-14a2-4bd6-ad38-5538986286db\">\n",
              "  <button class=\"colab-df-quickchart\" onclick=\"quickchart('df-51f3b6a5-14a2-4bd6-ad38-5538986286db')\"\n",
              "            title=\"Suggest charts\"\n",
              "            style=\"display:none;\">\n",
              "\n",
              "<svg xmlns=\"http://www.w3.org/2000/svg\" height=\"24px\"viewBox=\"0 0 24 24\"\n",
              "     width=\"24px\">\n",
              "    <g>\n",
              "        <path d=\"M19 3H5c-1.1 0-2 .9-2 2v14c0 1.1.9 2 2 2h14c1.1 0 2-.9 2-2V5c0-1.1-.9-2-2-2zM9 17H7v-7h2v7zm4 0h-2V7h2v10zm4 0h-2v-4h2v4z\"/>\n",
              "    </g>\n",
              "</svg>\n",
              "  </button>\n",
              "\n",
              "<style>\n",
              "  .colab-df-quickchart {\n",
              "      --bg-color: #E8F0FE;\n",
              "      --fill-color: #1967D2;\n",
              "      --hover-bg-color: #E2EBFA;\n",
              "      --hover-fill-color: #174EA6;\n",
              "      --disabled-fill-color: #AAA;\n",
              "      --disabled-bg-color: #DDD;\n",
              "  }\n",
              "\n",
              "  [theme=dark] .colab-df-quickchart {\n",
              "      --bg-color: #3B4455;\n",
              "      --fill-color: #D2E3FC;\n",
              "      --hover-bg-color: #434B5C;\n",
              "      --hover-fill-color: #FFFFFF;\n",
              "      --disabled-bg-color: #3B4455;\n",
              "      --disabled-fill-color: #666;\n",
              "  }\n",
              "\n",
              "  .colab-df-quickchart {\n",
              "    background-color: var(--bg-color);\n",
              "    border: none;\n",
              "    border-radius: 50%;\n",
              "    cursor: pointer;\n",
              "    display: none;\n",
              "    fill: var(--fill-color);\n",
              "    height: 32px;\n",
              "    padding: 0;\n",
              "    width: 32px;\n",
              "  }\n",
              "\n",
              "  .colab-df-quickchart:hover {\n",
              "    background-color: var(--hover-bg-color);\n",
              "    box-shadow: 0 1px 2px rgba(60, 64, 67, 0.3), 0 1px 3px 1px rgba(60, 64, 67, 0.15);\n",
              "    fill: var(--button-hover-fill-color);\n",
              "  }\n",
              "\n",
              "  .colab-df-quickchart-complete:disabled,\n",
              "  .colab-df-quickchart-complete:disabled:hover {\n",
              "    background-color: var(--disabled-bg-color);\n",
              "    fill: var(--disabled-fill-color);\n",
              "    box-shadow: none;\n",
              "  }\n",
              "\n",
              "  .colab-df-spinner {\n",
              "    border: 2px solid var(--fill-color);\n",
              "    border-color: transparent;\n",
              "    border-bottom-color: var(--fill-color);\n",
              "    animation:\n",
              "      spin 1s steps(1) infinite;\n",
              "  }\n",
              "\n",
              "  @keyframes spin {\n",
              "    0% {\n",
              "      border-color: transparent;\n",
              "      border-bottom-color: var(--fill-color);\n",
              "      border-left-color: var(--fill-color);\n",
              "    }\n",
              "    20% {\n",
              "      border-color: transparent;\n",
              "      border-left-color: var(--fill-color);\n",
              "      border-top-color: var(--fill-color);\n",
              "    }\n",
              "    30% {\n",
              "      border-color: transparent;\n",
              "      border-left-color: var(--fill-color);\n",
              "      border-top-color: var(--fill-color);\n",
              "      border-right-color: var(--fill-color);\n",
              "    }\n",
              "    40% {\n",
              "      border-color: transparent;\n",
              "      border-right-color: var(--fill-color);\n",
              "      border-top-color: var(--fill-color);\n",
              "    }\n",
              "    60% {\n",
              "      border-color: transparent;\n",
              "      border-right-color: var(--fill-color);\n",
              "    }\n",
              "    80% {\n",
              "      border-color: transparent;\n",
              "      border-right-color: var(--fill-color);\n",
              "      border-bottom-color: var(--fill-color);\n",
              "    }\n",
              "    90% {\n",
              "      border-color: transparent;\n",
              "      border-bottom-color: var(--fill-color);\n",
              "    }\n",
              "  }\n",
              "</style>\n",
              "\n",
              "  <script>\n",
              "    async function quickchart(key) {\n",
              "      const quickchartButtonEl =\n",
              "        document.querySelector('#' + key + ' button');\n",
              "      quickchartButtonEl.disabled = true;  // To prevent multiple clicks.\n",
              "      quickchartButtonEl.classList.add('colab-df-spinner');\n",
              "      try {\n",
              "        const charts = await google.colab.kernel.invokeFunction(\n",
              "            'suggestCharts', [key], {});\n",
              "      } catch (error) {\n",
              "        console.error('Error during call to suggestCharts:', error);\n",
              "      }\n",
              "      quickchartButtonEl.classList.remove('colab-df-spinner');\n",
              "      quickchartButtonEl.classList.add('colab-df-quickchart-complete');\n",
              "    }\n",
              "    (() => {\n",
              "      let quickchartButtonEl =\n",
              "        document.querySelector('#df-51f3b6a5-14a2-4bd6-ad38-5538986286db button');\n",
              "      quickchartButtonEl.style.display =\n",
              "        google.colab.kernel.accessAllowed ? 'block' : 'none';\n",
              "    })();\n",
              "  </script>\n",
              "</div>\n",
              "\n",
              "    </div>\n",
              "  </div>\n"
            ],
            "application/vnd.google.colaboratory.intrinsic+json": {
              "type": "dataframe",
              "variable_name": "credit_card_data_raw"
            }
          },
          "metadata": {},
          "execution_count": 7
        }
      ]
    },
    {
      "cell_type": "code",
      "source": [
        "#checking the last few rows of the raw data\n",
        "credit_card_data_raw.tail()"
      ],
      "metadata": {
        "colab": {
          "base_uri": "https://localhost:8080/",
          "height": 256
        },
        "id": "GGEjQOtQ3x8s",
        "outputId": "411eb468-7e37-4d16-8ca9-e4cf7d3e69ba"
      },
      "execution_count": 8,
      "outputs": [
        {
          "output_type": "execute_result",
          "data": {
            "text/plain": [
              "        Time        V1        V2        V3        V4        V5        V6  \\\n",
              "13949  24754  1.252924 -0.182189 -0.802716 -0.210981  1.916713  3.643624   \n",
              "13950  24756 -0.346979 -2.103284 -0.685061  1.961605 -0.401125  0.473632   \n",
              "13951  24759 -6.053652 -5.988723  0.810413 -0.011811  1.308135 -0.590803   \n",
              "13952  24759  1.169121 -1.284945  0.032717 -0.681670  0.660598  4.412578   \n",
              "13953  24759 -6.917152  5.854171 -1.652458 -1.488884 -0.833891 -0.344418   \n",
              "\n",
              "             V7        V8        V9  ...       V21       V22       V23  \\\n",
              "13949 -0.778711  0.818295  1.706962  ... -0.497088 -1.211285  0.043809   \n",
              "13950  1.133816 -0.256528  0.893409  ...  0.359662 -0.316275 -0.864259   \n",
              "13951 -0.725838 -0.234840  1.624646  ... -0.771970  1.474668  3.176363   \n",
              "13952 -1.913115  1.076592  1.501230  ... -0.557596 -0.882435 -0.041523   \n",
              "13953  0.393789  0.379968  6.133597  ... -1.404681 -1.124694  0.174333   \n",
              "\n",
              "            V24       V25       V26       V27       V28  Amount  Class  \n",
              "13949  0.964159  0.442030  0.261483 -0.051402  0.005112   23.74    0.0  \n",
              "13950 -0.279881  0.491802 -0.353996 -0.149931  0.129795  794.20    0.0  \n",
              "13951 -0.302410  0.052529 -0.373871 -0.700463  2.508443   60.00    0.0  \n",
              "13952  0.975445  0.297229  0.550515  0.015029  0.032067   90.00    0.0  \n",
              "13953 -0.528234  0.990685 -0.035875  1.071374 -0.168831     NaN    NaN  \n",
              "\n",
              "[5 rows x 31 columns]"
            ],
            "text/html": [
              "\n",
              "  <div id=\"df-77e3b1f2-c597-4d3f-b4cf-9b149ace5591\" class=\"colab-df-container\">\n",
              "    <div>\n",
              "<style scoped>\n",
              "    .dataframe tbody tr th:only-of-type {\n",
              "        vertical-align: middle;\n",
              "    }\n",
              "\n",
              "    .dataframe tbody tr th {\n",
              "        vertical-align: top;\n",
              "    }\n",
              "\n",
              "    .dataframe thead th {\n",
              "        text-align: right;\n",
              "    }\n",
              "</style>\n",
              "<table border=\"1\" class=\"dataframe\">\n",
              "  <thead>\n",
              "    <tr style=\"text-align: right;\">\n",
              "      <th></th>\n",
              "      <th>Time</th>\n",
              "      <th>V1</th>\n",
              "      <th>V2</th>\n",
              "      <th>V3</th>\n",
              "      <th>V4</th>\n",
              "      <th>V5</th>\n",
              "      <th>V6</th>\n",
              "      <th>V7</th>\n",
              "      <th>V8</th>\n",
              "      <th>V9</th>\n",
              "      <th>...</th>\n",
              "      <th>V21</th>\n",
              "      <th>V22</th>\n",
              "      <th>V23</th>\n",
              "      <th>V24</th>\n",
              "      <th>V25</th>\n",
              "      <th>V26</th>\n",
              "      <th>V27</th>\n",
              "      <th>V28</th>\n",
              "      <th>Amount</th>\n",
              "      <th>Class</th>\n",
              "    </tr>\n",
              "  </thead>\n",
              "  <tbody>\n",
              "    <tr>\n",
              "      <th>13949</th>\n",
              "      <td>24754</td>\n",
              "      <td>1.252924</td>\n",
              "      <td>-0.182189</td>\n",
              "      <td>-0.802716</td>\n",
              "      <td>-0.210981</td>\n",
              "      <td>1.916713</td>\n",
              "      <td>3.643624</td>\n",
              "      <td>-0.778711</td>\n",
              "      <td>0.818295</td>\n",
              "      <td>1.706962</td>\n",
              "      <td>...</td>\n",
              "      <td>-0.497088</td>\n",
              "      <td>-1.211285</td>\n",
              "      <td>0.043809</td>\n",
              "      <td>0.964159</td>\n",
              "      <td>0.442030</td>\n",
              "      <td>0.261483</td>\n",
              "      <td>-0.051402</td>\n",
              "      <td>0.005112</td>\n",
              "      <td>23.74</td>\n",
              "      <td>0.0</td>\n",
              "    </tr>\n",
              "    <tr>\n",
              "      <th>13950</th>\n",
              "      <td>24756</td>\n",
              "      <td>-0.346979</td>\n",
              "      <td>-2.103284</td>\n",
              "      <td>-0.685061</td>\n",
              "      <td>1.961605</td>\n",
              "      <td>-0.401125</td>\n",
              "      <td>0.473632</td>\n",
              "      <td>1.133816</td>\n",
              "      <td>-0.256528</td>\n",
              "      <td>0.893409</td>\n",
              "      <td>...</td>\n",
              "      <td>0.359662</td>\n",
              "      <td>-0.316275</td>\n",
              "      <td>-0.864259</td>\n",
              "      <td>-0.279881</td>\n",
              "      <td>0.491802</td>\n",
              "      <td>-0.353996</td>\n",
              "      <td>-0.149931</td>\n",
              "      <td>0.129795</td>\n",
              "      <td>794.20</td>\n",
              "      <td>0.0</td>\n",
              "    </tr>\n",
              "    <tr>\n",
              "      <th>13951</th>\n",
              "      <td>24759</td>\n",
              "      <td>-6.053652</td>\n",
              "      <td>-5.988723</td>\n",
              "      <td>0.810413</td>\n",
              "      <td>-0.011811</td>\n",
              "      <td>1.308135</td>\n",
              "      <td>-0.590803</td>\n",
              "      <td>-0.725838</td>\n",
              "      <td>-0.234840</td>\n",
              "      <td>1.624646</td>\n",
              "      <td>...</td>\n",
              "      <td>-0.771970</td>\n",
              "      <td>1.474668</td>\n",
              "      <td>3.176363</td>\n",
              "      <td>-0.302410</td>\n",
              "      <td>0.052529</td>\n",
              "      <td>-0.373871</td>\n",
              "      <td>-0.700463</td>\n",
              "      <td>2.508443</td>\n",
              "      <td>60.00</td>\n",
              "      <td>0.0</td>\n",
              "    </tr>\n",
              "    <tr>\n",
              "      <th>13952</th>\n",
              "      <td>24759</td>\n",
              "      <td>1.169121</td>\n",
              "      <td>-1.284945</td>\n",
              "      <td>0.032717</td>\n",
              "      <td>-0.681670</td>\n",
              "      <td>0.660598</td>\n",
              "      <td>4.412578</td>\n",
              "      <td>-1.913115</td>\n",
              "      <td>1.076592</td>\n",
              "      <td>1.501230</td>\n",
              "      <td>...</td>\n",
              "      <td>-0.557596</td>\n",
              "      <td>-0.882435</td>\n",
              "      <td>-0.041523</td>\n",
              "      <td>0.975445</td>\n",
              "      <td>0.297229</td>\n",
              "      <td>0.550515</td>\n",
              "      <td>0.015029</td>\n",
              "      <td>0.032067</td>\n",
              "      <td>90.00</td>\n",
              "      <td>0.0</td>\n",
              "    </tr>\n",
              "    <tr>\n",
              "      <th>13953</th>\n",
              "      <td>24759</td>\n",
              "      <td>-6.917152</td>\n",
              "      <td>5.854171</td>\n",
              "      <td>-1.652458</td>\n",
              "      <td>-1.488884</td>\n",
              "      <td>-0.833891</td>\n",
              "      <td>-0.344418</td>\n",
              "      <td>0.393789</td>\n",
              "      <td>0.379968</td>\n",
              "      <td>6.133597</td>\n",
              "      <td>...</td>\n",
              "      <td>-1.404681</td>\n",
              "      <td>-1.124694</td>\n",
              "      <td>0.174333</td>\n",
              "      <td>-0.528234</td>\n",
              "      <td>0.990685</td>\n",
              "      <td>-0.035875</td>\n",
              "      <td>1.071374</td>\n",
              "      <td>-0.168831</td>\n",
              "      <td>NaN</td>\n",
              "      <td>NaN</td>\n",
              "    </tr>\n",
              "  </tbody>\n",
              "</table>\n",
              "<p>5 rows × 31 columns</p>\n",
              "</div>\n",
              "    <div class=\"colab-df-buttons\">\n",
              "\n",
              "  <div class=\"colab-df-container\">\n",
              "    <button class=\"colab-df-convert\" onclick=\"convertToInteractive('df-77e3b1f2-c597-4d3f-b4cf-9b149ace5591')\"\n",
              "            title=\"Convert this dataframe to an interactive table.\"\n",
              "            style=\"display:none;\">\n",
              "\n",
              "  <svg xmlns=\"http://www.w3.org/2000/svg\" height=\"24px\" viewBox=\"0 -960 960 960\">\n",
              "    <path d=\"M120-120v-720h720v720H120Zm60-500h600v-160H180v160Zm220 220h160v-160H400v160Zm0 220h160v-160H400v160ZM180-400h160v-160H180v160Zm440 0h160v-160H620v160ZM180-180h160v-160H180v160Zm440 0h160v-160H620v160Z\"/>\n",
              "  </svg>\n",
              "    </button>\n",
              "\n",
              "  <style>\n",
              "    .colab-df-container {\n",
              "      display:flex;\n",
              "      gap: 12px;\n",
              "    }\n",
              "\n",
              "    .colab-df-convert {\n",
              "      background-color: #E8F0FE;\n",
              "      border: none;\n",
              "      border-radius: 50%;\n",
              "      cursor: pointer;\n",
              "      display: none;\n",
              "      fill: #1967D2;\n",
              "      height: 32px;\n",
              "      padding: 0 0 0 0;\n",
              "      width: 32px;\n",
              "    }\n",
              "\n",
              "    .colab-df-convert:hover {\n",
              "      background-color: #E2EBFA;\n",
              "      box-shadow: 0px 1px 2px rgba(60, 64, 67, 0.3), 0px 1px 3px 1px rgba(60, 64, 67, 0.15);\n",
              "      fill: #174EA6;\n",
              "    }\n",
              "\n",
              "    .colab-df-buttons div {\n",
              "      margin-bottom: 4px;\n",
              "    }\n",
              "\n",
              "    [theme=dark] .colab-df-convert {\n",
              "      background-color: #3B4455;\n",
              "      fill: #D2E3FC;\n",
              "    }\n",
              "\n",
              "    [theme=dark] .colab-df-convert:hover {\n",
              "      background-color: #434B5C;\n",
              "      box-shadow: 0px 1px 3px 1px rgba(0, 0, 0, 0.15);\n",
              "      filter: drop-shadow(0px 1px 2px rgba(0, 0, 0, 0.3));\n",
              "      fill: #FFFFFF;\n",
              "    }\n",
              "  </style>\n",
              "\n",
              "    <script>\n",
              "      const buttonEl =\n",
              "        document.querySelector('#df-77e3b1f2-c597-4d3f-b4cf-9b149ace5591 button.colab-df-convert');\n",
              "      buttonEl.style.display =\n",
              "        google.colab.kernel.accessAllowed ? 'block' : 'none';\n",
              "\n",
              "      async function convertToInteractive(key) {\n",
              "        const element = document.querySelector('#df-77e3b1f2-c597-4d3f-b4cf-9b149ace5591');\n",
              "        const dataTable =\n",
              "          await google.colab.kernel.invokeFunction('convertToInteractive',\n",
              "                                                    [key], {});\n",
              "        if (!dataTable) return;\n",
              "\n",
              "        const docLinkHtml = 'Like what you see? Visit the ' +\n",
              "          '<a target=\"_blank\" href=https://colab.research.google.com/notebooks/data_table.ipynb>data table notebook</a>'\n",
              "          + ' to learn more about interactive tables.';\n",
              "        element.innerHTML = '';\n",
              "        dataTable['output_type'] = 'display_data';\n",
              "        await google.colab.output.renderOutput(dataTable, element);\n",
              "        const docLink = document.createElement('div');\n",
              "        docLink.innerHTML = docLinkHtml;\n",
              "        element.appendChild(docLink);\n",
              "      }\n",
              "    </script>\n",
              "  </div>\n",
              "\n",
              "\n",
              "<div id=\"df-42ee8924-9a2a-4cef-825a-c610096293d5\">\n",
              "  <button class=\"colab-df-quickchart\" onclick=\"quickchart('df-42ee8924-9a2a-4cef-825a-c610096293d5')\"\n",
              "            title=\"Suggest charts\"\n",
              "            style=\"display:none;\">\n",
              "\n",
              "<svg xmlns=\"http://www.w3.org/2000/svg\" height=\"24px\"viewBox=\"0 0 24 24\"\n",
              "     width=\"24px\">\n",
              "    <g>\n",
              "        <path d=\"M19 3H5c-1.1 0-2 .9-2 2v14c0 1.1.9 2 2 2h14c1.1 0 2-.9 2-2V5c0-1.1-.9-2-2-2zM9 17H7v-7h2v7zm4 0h-2V7h2v10zm4 0h-2v-4h2v4z\"/>\n",
              "    </g>\n",
              "</svg>\n",
              "  </button>\n",
              "\n",
              "<style>\n",
              "  .colab-df-quickchart {\n",
              "      --bg-color: #E8F0FE;\n",
              "      --fill-color: #1967D2;\n",
              "      --hover-bg-color: #E2EBFA;\n",
              "      --hover-fill-color: #174EA6;\n",
              "      --disabled-fill-color: #AAA;\n",
              "      --disabled-bg-color: #DDD;\n",
              "  }\n",
              "\n",
              "  [theme=dark] .colab-df-quickchart {\n",
              "      --bg-color: #3B4455;\n",
              "      --fill-color: #D2E3FC;\n",
              "      --hover-bg-color: #434B5C;\n",
              "      --hover-fill-color: #FFFFFF;\n",
              "      --disabled-bg-color: #3B4455;\n",
              "      --disabled-fill-color: #666;\n",
              "  }\n",
              "\n",
              "  .colab-df-quickchart {\n",
              "    background-color: var(--bg-color);\n",
              "    border: none;\n",
              "    border-radius: 50%;\n",
              "    cursor: pointer;\n",
              "    display: none;\n",
              "    fill: var(--fill-color);\n",
              "    height: 32px;\n",
              "    padding: 0;\n",
              "    width: 32px;\n",
              "  }\n",
              "\n",
              "  .colab-df-quickchart:hover {\n",
              "    background-color: var(--hover-bg-color);\n",
              "    box-shadow: 0 1px 2px rgba(60, 64, 67, 0.3), 0 1px 3px 1px rgba(60, 64, 67, 0.15);\n",
              "    fill: var(--button-hover-fill-color);\n",
              "  }\n",
              "\n",
              "  .colab-df-quickchart-complete:disabled,\n",
              "  .colab-df-quickchart-complete:disabled:hover {\n",
              "    background-color: var(--disabled-bg-color);\n",
              "    fill: var(--disabled-fill-color);\n",
              "    box-shadow: none;\n",
              "  }\n",
              "\n",
              "  .colab-df-spinner {\n",
              "    border: 2px solid var(--fill-color);\n",
              "    border-color: transparent;\n",
              "    border-bottom-color: var(--fill-color);\n",
              "    animation:\n",
              "      spin 1s steps(1) infinite;\n",
              "  }\n",
              "\n",
              "  @keyframes spin {\n",
              "    0% {\n",
              "      border-color: transparent;\n",
              "      border-bottom-color: var(--fill-color);\n",
              "      border-left-color: var(--fill-color);\n",
              "    }\n",
              "    20% {\n",
              "      border-color: transparent;\n",
              "      border-left-color: var(--fill-color);\n",
              "      border-top-color: var(--fill-color);\n",
              "    }\n",
              "    30% {\n",
              "      border-color: transparent;\n",
              "      border-left-color: var(--fill-color);\n",
              "      border-top-color: var(--fill-color);\n",
              "      border-right-color: var(--fill-color);\n",
              "    }\n",
              "    40% {\n",
              "      border-color: transparent;\n",
              "      border-right-color: var(--fill-color);\n",
              "      border-top-color: var(--fill-color);\n",
              "    }\n",
              "    60% {\n",
              "      border-color: transparent;\n",
              "      border-right-color: var(--fill-color);\n",
              "    }\n",
              "    80% {\n",
              "      border-color: transparent;\n",
              "      border-right-color: var(--fill-color);\n",
              "      border-bottom-color: var(--fill-color);\n",
              "    }\n",
              "    90% {\n",
              "      border-color: transparent;\n",
              "      border-bottom-color: var(--fill-color);\n",
              "    }\n",
              "  }\n",
              "</style>\n",
              "\n",
              "  <script>\n",
              "    async function quickchart(key) {\n",
              "      const quickchartButtonEl =\n",
              "        document.querySelector('#' + key + ' button');\n",
              "      quickchartButtonEl.disabled = true;  // To prevent multiple clicks.\n",
              "      quickchartButtonEl.classList.add('colab-df-spinner');\n",
              "      try {\n",
              "        const charts = await google.colab.kernel.invokeFunction(\n",
              "            'suggestCharts', [key], {});\n",
              "      } catch (error) {\n",
              "        console.error('Error during call to suggestCharts:', error);\n",
              "      }\n",
              "      quickchartButtonEl.classList.remove('colab-df-spinner');\n",
              "      quickchartButtonEl.classList.add('colab-df-quickchart-complete');\n",
              "    }\n",
              "    (() => {\n",
              "      let quickchartButtonEl =\n",
              "        document.querySelector('#df-42ee8924-9a2a-4cef-825a-c610096293d5 button');\n",
              "      quickchartButtonEl.style.display =\n",
              "        google.colab.kernel.accessAllowed ? 'block' : 'none';\n",
              "    })();\n",
              "  </script>\n",
              "</div>\n",
              "\n",
              "    </div>\n",
              "  </div>\n"
            ],
            "application/vnd.google.colaboratory.intrinsic+json": {
              "type": "dataframe"
            }
          },
          "metadata": {},
          "execution_count": 8
        }
      ]
    },
    {
      "cell_type": "code",
      "source": [
        "#Information of the dataset\n",
        "credit_card_data_raw.info()"
      ],
      "metadata": {
        "colab": {
          "base_uri": "https://localhost:8080/"
        },
        "id": "adQlpJ-23-0Q",
        "outputId": "f303cec3-b365-489b-c3cf-258bbeeb7792"
      },
      "execution_count": 9,
      "outputs": [
        {
          "output_type": "stream",
          "name": "stdout",
          "text": [
            "<class 'pandas.core.frame.DataFrame'>\n",
            "RangeIndex: 13954 entries, 0 to 13953\n",
            "Data columns (total 31 columns):\n",
            " #   Column  Non-Null Count  Dtype  \n",
            "---  ------  --------------  -----  \n",
            " 0   Time    13954 non-null  int64  \n",
            " 1   V1      13954 non-null  float64\n",
            " 2   V2      13954 non-null  float64\n",
            " 3   V3      13954 non-null  float64\n",
            " 4   V4      13954 non-null  float64\n",
            " 5   V5      13954 non-null  float64\n",
            " 6   V6      13954 non-null  float64\n",
            " 7   V7      13954 non-null  float64\n",
            " 8   V8      13954 non-null  float64\n",
            " 9   V9      13954 non-null  float64\n",
            " 10  V10     13954 non-null  float64\n",
            " 11  V11     13954 non-null  float64\n",
            " 12  V12     13954 non-null  float64\n",
            " 13  V13     13954 non-null  float64\n",
            " 14  V14     13954 non-null  float64\n",
            " 15  V15     13954 non-null  float64\n",
            " 16  V16     13954 non-null  float64\n",
            " 17  V17     13954 non-null  float64\n",
            " 18  V18     13954 non-null  float64\n",
            " 19  V19     13954 non-null  float64\n",
            " 20  V20     13954 non-null  float64\n",
            " 21  V21     13954 non-null  float64\n",
            " 22  V22     13954 non-null  float64\n",
            " 23  V23     13954 non-null  float64\n",
            " 24  V24     13954 non-null  float64\n",
            " 25  V25     13954 non-null  float64\n",
            " 26  V26     13954 non-null  float64\n",
            " 27  V27     13954 non-null  float64\n",
            " 28  V28     13954 non-null  float64\n",
            " 29  Amount  13953 non-null  float64\n",
            " 30  Class   13953 non-null  float64\n",
            "dtypes: float64(30), int64(1)\n",
            "memory usage: 3.3 MB\n"
          ]
        }
      ]
    },
    {
      "cell_type": "markdown",
      "source": [
        "Data Analysis"
      ],
      "metadata": {
        "id": "KSAgZ9fo4UGc"
      }
    },
    {
      "cell_type": "code",
      "source": [
        "# Missing values\n",
        "credit_card_data_raw.isnull().sum()"
      ],
      "metadata": {
        "colab": {
          "base_uri": "https://localhost:8080/"
        },
        "id": "_ONsDkQu4KDe",
        "outputId": "70f980dc-6166-46c3-a5d3-2386743f4296"
      },
      "execution_count": 11,
      "outputs": [
        {
          "output_type": "execute_result",
          "data": {
            "text/plain": [
              "Time      0\n",
              "V1        0\n",
              "V2        0\n",
              "V3        0\n",
              "V4        0\n",
              "V5        0\n",
              "V6        0\n",
              "V7        0\n",
              "V8        0\n",
              "V9        0\n",
              "V10       0\n",
              "V11       0\n",
              "V12       0\n",
              "V13       0\n",
              "V14       0\n",
              "V15       0\n",
              "V16       0\n",
              "V17       0\n",
              "V18       0\n",
              "V19       0\n",
              "V20       0\n",
              "V21       0\n",
              "V22       0\n",
              "V23       0\n",
              "V24       0\n",
              "V25       0\n",
              "V26       0\n",
              "V27       0\n",
              "V28       0\n",
              "Amount    1\n",
              "Class     1\n",
              "dtype: int64"
            ]
          },
          "metadata": {},
          "execution_count": 11
        }
      ]
    },
    {
      "cell_type": "code",
      "source": [
        "# number of right transactions and wrong transactions\n",
        "credit_card_data_raw['Class'].value_counts()"
      ],
      "metadata": {
        "colab": {
          "base_uri": "https://localhost:8080/"
        },
        "id": "67dnyGd_4mPv",
        "outputId": "3ed28020-9c8f-4108-90b6-c823edd06b09"
      },
      "execution_count": 16,
      "outputs": [
        {
          "output_type": "execute_result",
          "data": {
            "text/plain": [
              "Class\n",
              "0.0    13897\n",
              "1.0       56\n",
              "Name: count, dtype: int64"
            ]
          },
          "metadata": {},
          "execution_count": 16
        }
      ]
    },
    {
      "cell_type": "code",
      "source": [
        "credit_card_data_raw['Amount'].value_counts()"
      ],
      "metadata": {
        "colab": {
          "base_uri": "https://localhost:8080/"
        },
        "id": "iUc5Qhxh5DuM",
        "outputId": "7612f23c-5298-4854-de2f-0c663f196f8c"
      },
      "execution_count": 17,
      "outputs": [
        {
          "output_type": "execute_result",
          "data": {
            "text/plain": [
              "Amount\n",
              "1.00      708\n",
              "11.85     593\n",
              "15.95     352\n",
              "5.00      299\n",
              "0.89      199\n",
              "         ... \n",
              "44.23       1\n",
              "130.12      1\n",
              "242.02      1\n",
              "66.58       1\n",
              "794.20      1\n",
              "Name: count, Length: 4674, dtype: int64"
            ]
          },
          "metadata": {},
          "execution_count": 17
        }
      ]
    },
    {
      "cell_type": "code",
      "source": [
        "Right = credit_card_data_raw[credit_card_data_raw.Class==0]\n",
        "Wrong = credit_card_data_raw[credit_card_data_raw.Class==1]"
      ],
      "metadata": {
        "id": "kRykZ4FA5QVN"
      },
      "execution_count": 18,
      "outputs": []
    },
    {
      "cell_type": "code",
      "source": [
        "print(Right.shape)\n",
        "print(Wrong.shape)"
      ],
      "metadata": {
        "colab": {
          "base_uri": "https://localhost:8080/"
        },
        "id": "p0J8Utvl5oJ7",
        "outputId": "67febe43-2a0a-4e5d-db40-2b962e8406d2"
      },
      "execution_count": 19,
      "outputs": [
        {
          "output_type": "stream",
          "name": "stdout",
          "text": [
            "(13897, 31)\n",
            "(56, 31)\n"
          ]
        }
      ]
    },
    {
      "cell_type": "code",
      "source": [
        "Right.Amount.describe()"
      ],
      "metadata": {
        "colab": {
          "base_uri": "https://localhost:8080/"
        },
        "id": "GXeanoSC52vJ",
        "outputId": "7a62c46c-4b08-4aac-8c1a-8e080bbf9dbd"
      },
      "execution_count": 20,
      "outputs": [
        {
          "output_type": "execute_result",
          "data": {
            "text/plain": [
              "count    13897.000000\n",
              "mean        63.773909\n",
              "std        177.164503\n",
              "min          0.000000\n",
              "25%          5.770000\n",
              "50%         15.900000\n",
              "75%         52.370000\n",
              "max       7712.430000\n",
              "Name: Amount, dtype: float64"
            ]
          },
          "metadata": {},
          "execution_count": 20
        }
      ]
    },
    {
      "cell_type": "code",
      "source": [
        "Wrong.Amount.describe()"
      ],
      "metadata": {
        "colab": {
          "base_uri": "https://localhost:8080/"
        },
        "id": "PZ72Xgf85-hF",
        "outputId": "62115874-9c3f-4833-e632-12e55cec5d9b"
      },
      "execution_count": 21,
      "outputs": [
        {
          "output_type": "execute_result",
          "data": {
            "text/plain": [
              "count      56.000000\n",
              "mean       90.815893\n",
              "std       310.308450\n",
              "min         0.000000\n",
              "25%         1.000000\n",
              "50%         1.000000\n",
              "75%         1.025000\n",
              "max      1809.680000\n",
              "Name: Amount, dtype: float64"
            ]
          },
          "metadata": {},
          "execution_count": 21
        }
      ]
    },
    {
      "cell_type": "markdown",
      "source": [
        "Data Pre-processing"
      ],
      "metadata": {
        "id": "Eng_FEDC6xQk"
      }
    },
    {
      "cell_type": "markdown",
      "source": [
        "handelling missing values"
      ],
      "metadata": {
        "id": "1rqGTaEw68cX"
      }
    },
    {
      "cell_type": "code",
      "source": [
        "credit_card_data_raw.dropna(subset=['Class'], inplace=True)\n",
        "credit_card_data_raw['Amount'].fillna(credit_card_data_raw['Amount'].median(), inplace=True)"
      ],
      "metadata": {
        "id": "51LgCjX-6y8E"
      },
      "execution_count": 23,
      "outputs": []
    },
    {
      "cell_type": "markdown",
      "source": [
        " Separating the features and the target"
      ],
      "metadata": {
        "id": "0WxGv6wv7Txw"
      }
    },
    {
      "cell_type": "code",
      "source": [
        "X = credit_card_data_raw.drop(columns='Class', axis=1)\n",
        "y = credit_card_data_raw['Class']"
      ],
      "metadata": {
        "id": "NyGvXK5q7JNa"
      },
      "execution_count": 26,
      "outputs": []
    },
    {
      "cell_type": "code",
      "source": [
        "print(X)"
      ],
      "metadata": {
        "colab": {
          "base_uri": "https://localhost:8080/"
        },
        "id": "VkebDvYv8S__",
        "outputId": "76570048-6c57-48b9-bde9-8731d7277016"
      },
      "execution_count": 27,
      "outputs": [
        {
          "output_type": "stream",
          "name": "stdout",
          "text": [
            "        Time        V1        V2        V3        V4        V5        V6  \\\n",
            "0          0 -1.359807 -0.072781  2.536347  1.378155 -0.338321  0.462388   \n",
            "1          0  1.191857  0.266151  0.166480  0.448154  0.060018 -0.082361   \n",
            "2          1 -1.358354 -1.340163  1.773209  0.379780 -0.503198  1.800499   \n",
            "3          1 -0.966272 -0.185226  1.792993 -0.863291 -0.010309  1.247203   \n",
            "4          2 -1.158233  0.877737  1.548718  0.403034 -0.407193  0.095921   \n",
            "...      ...       ...       ...       ...       ...       ...       ...   \n",
            "13948  24753 -0.565780  0.754977  0.737825  0.030154 -1.383391  0.268107   \n",
            "13949  24754  1.252924 -0.182189 -0.802716 -0.210981  1.916713  3.643624   \n",
            "13950  24756 -0.346979 -2.103284 -0.685061  1.961605 -0.401125  0.473632   \n",
            "13951  24759 -6.053652 -5.988723  0.810413 -0.011811  1.308135 -0.590803   \n",
            "13952  24759  1.169121 -1.284945  0.032717 -0.681670  0.660598  4.412578   \n",
            "\n",
            "             V7        V8        V9  ...       V20       V21       V22  \\\n",
            "0      0.239599  0.098698  0.363787  ...  0.251412 -0.018307  0.277838   \n",
            "1     -0.078803  0.085102 -0.255425  ... -0.069083 -0.225775 -0.638672   \n",
            "2      0.791461  0.247676 -1.514654  ...  0.524980  0.247998  0.771679   \n",
            "3      0.237609  0.377436 -1.387024  ... -0.208038 -0.108300  0.005274   \n",
            "4      0.592941 -0.270533  0.817739  ...  0.408542 -0.009431  0.798278   \n",
            "...         ...       ...       ...  ...       ...       ...       ...   \n",
            "13948  0.687564  0.228757  0.648610  ... -0.046313 -0.217212 -0.546207   \n",
            "13949 -0.778711  0.818295  1.706962  ... -0.001336 -0.497088 -1.211285   \n",
            "13950  1.133816 -0.256528  0.893409  ...  1.437054  0.359662 -0.316275   \n",
            "13951 -0.725838 -0.234840  1.624646  ... -2.982379 -0.771970  1.474668   \n",
            "13952 -1.913115  1.076592  1.501230  ... -0.265041 -0.557596 -0.882435   \n",
            "\n",
            "            V23       V24       V25       V26       V27       V28  Amount  \n",
            "0     -0.110474  0.066928  0.128539 -0.189115  0.133558 -0.021053  149.62  \n",
            "1      0.101288 -0.339846  0.167170  0.125895 -0.008983  0.014724    2.69  \n",
            "2      0.909412 -0.689281 -0.327642 -0.139097 -0.055353 -0.059752  378.66  \n",
            "3     -0.190321 -1.175575  0.647376 -0.221929  0.062723  0.061458  123.50  \n",
            "4     -0.137458  0.141267 -0.206010  0.502292  0.219422  0.215153   69.99  \n",
            "...         ...       ...       ...       ...       ...       ...     ...  \n",
            "13948  0.358494 -0.016505 -0.793856  0.699716 -0.195727 -0.104007  232.00  \n",
            "13949  0.043809  0.964159  0.442030  0.261483 -0.051402  0.005112   23.74  \n",
            "13950 -0.864259 -0.279881  0.491802 -0.353996 -0.149931  0.129795  794.20  \n",
            "13951  3.176363 -0.302410  0.052529 -0.373871 -0.700463  2.508443   60.00  \n",
            "13952 -0.041523  0.975445  0.297229  0.550515  0.015029  0.032067   90.00  \n",
            "\n",
            "[13953 rows x 30 columns]\n"
          ]
        }
      ]
    },
    {
      "cell_type": "code",
      "source": [
        "print(y)"
      ],
      "metadata": {
        "colab": {
          "base_uri": "https://localhost:8080/"
        },
        "id": "XxCqD4Yw8Wh2",
        "outputId": "846e9ae0-4e18-4a6b-cd04-1eecbc553d8a"
      },
      "execution_count": 28,
      "outputs": [
        {
          "output_type": "stream",
          "name": "stdout",
          "text": [
            "0        0.0\n",
            "1        0.0\n",
            "2        0.0\n",
            "3        0.0\n",
            "4        0.0\n",
            "        ... \n",
            "13948    0.0\n",
            "13949    0.0\n",
            "13950    0.0\n",
            "13951    0.0\n",
            "13952    0.0\n",
            "Name: Class, Length: 13953, dtype: float64\n"
          ]
        }
      ]
    },
    {
      "cell_type": "markdown",
      "source": [
        "Feature scaling for 'Amount' and 'Time'"
      ],
      "metadata": {
        "id": "y2dXXjDA7OfI"
      }
    },
    {
      "cell_type": "code",
      "source": [
        "scaler = StandardScaler()\n",
        "X[['Amount', 'Time']] = scaler.fit_transform(X[['Amount', 'Time']])"
      ],
      "metadata": {
        "id": "pQGRQl5V7MTC"
      },
      "execution_count": 25,
      "outputs": []
    },
    {
      "cell_type": "markdown",
      "source": [
        "Separate majority and minority classes"
      ],
      "metadata": {
        "id": "FOdlXGS58fjX"
      }
    },
    {
      "cell_type": "code",
      "source": [
        "majority_class = credit_card_data_raw[credit_card_data_raw.Class == 0]\n",
        "minority_class = credit_card_data_raw[credit_card_data_raw.Class == 1]"
      ],
      "metadata": {
        "id": "w97A62208gI3"
      },
      "execution_count": 29,
      "outputs": []
    },
    {
      "cell_type": "markdown",
      "source": [
        "Undersampling the majority class ( right transactions)"
      ],
      "metadata": {
        "id": "9D2C3syU8uXN"
      }
    },
    {
      "cell_type": "code",
      "source": [
        "rus = RandomUnderSampler(sampling_strategy=1.0, random_state=42)\n",
        "X_undersampled, y_undersampled = rus.fit_resample(X, y)"
      ],
      "metadata": {
        "id": "jpAd0ZJY8uGP"
      },
      "execution_count": 32,
      "outputs": []
    },
    {
      "cell_type": "markdown",
      "source": [
        "Using SMOTE to further balance the dataset."
      ],
      "metadata": {
        "id": "CZmOP4vG87cL"
      }
    },
    {
      "cell_type": "code",
      "source": [
        "smote = SMOTE(sampling_strategy='minority', random_state=42)\n",
        "X_balanced, y_balanced = smote.fit_resample(X_undersampled, y_undersampled)"
      ],
      "metadata": {
        "id": "QBccHi_Y89ql"
      },
      "execution_count": 33,
      "outputs": []
    },
    {
      "cell_type": "markdown",
      "source": [
        "Combining the features and target into a single dataset ( a new dataset which is processed)."
      ],
      "metadata": {
        "id": "ca1Z7btL9Dv_"
      }
    },
    {
      "cell_type": "code",
      "source": [
        "balanced_data = pd.DataFrame(X_balanced, columns=X.columns)\n",
        "balanced_data['Class'] = y_balanced"
      ],
      "metadata": {
        "id": "6KhQ3gLp9KSC"
      },
      "execution_count": 34,
      "outputs": []
    },
    {
      "cell_type": "code",
      "source": [
        "balanced_data.to_csv('/content/credit_card_data_processed.csv', index=False)"
      ],
      "metadata": {
        "id": "fQGHCg_29NU0"
      },
      "execution_count": 35,
      "outputs": []
    }
  ]
}
